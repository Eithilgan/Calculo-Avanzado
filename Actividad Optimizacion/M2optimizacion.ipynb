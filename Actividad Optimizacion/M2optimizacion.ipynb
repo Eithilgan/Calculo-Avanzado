{
 "cells": [
  {
   "cell_type": "markdown",
   "metadata": {},
   "source": [
    "# Módulo Nº 2 \n",
    "## Calculo Avanzado-MAT1189-1-2021-1\n",
    "## Proyecto Abril \"optimización\"\n",
    "### Integrantes: Enrique Cayupan, Bryan Silva, Dennis Riffo.\n",
    "\n",
    "\n"
   ]
  },
  {
   "cell_type": "markdown",
   "metadata": {},
   "source": [
    "El modelo que elegimos para realizar la optimizacion es el Weibull, que se define mediante la siguiente funcion:"
   ]
  },
  {
   "cell_type": "markdown",
   "metadata": {},
   "source": [
    "$u(t)=1-e^{-at}$"
   ]
  },
  {
   "cell_type": "markdown",
   "metadata": {},
   "source": [
    "Posteriormente el resultado de nuestro modelo lo reemplazaremos en la funcion de costo que se define por:"
   ]
  },
  {
   "cell_type": "markdown",
   "metadata": {},
   "source": [
    "$f(p)=\\sum_{i=1}^{n}(y(p;x_i)-\\hat{y}_i)^2$"
   ]
  },
  {
   "cell_type": "markdown",
   "metadata": {},
   "source": [
    "Para graficar nuestro modelo en Python ocupamos los modulos de numpy y matplotlib"
   ]
  },
  {
   "cell_type": "code",
   "execution_count": 23,
   "metadata": {},
   "outputs": [],
   "source": [
    "import numpy as np\n",
    "import matplotlib.pyplot as plt"
   ]
  },
  {
   "cell_type": "markdown",
   "metadata": {},
   "source": [
    "Los modulos que utilizaremos para la representacion 3D son los siguientes"
   ]
  },
  {
   "cell_type": "code",
   "execution_count": 24,
   "metadata": {},
   "outputs": [],
   "source": [
    "from matplotlib import cm\n",
    "from matplotlib.ticker import LinearLocator, FormatStrFormatter\n",
    "from mpl_toolkits.mplot3d import Axes3D"
   ]
  },
  {
   "cell_type": "markdown",
   "metadata": {},
   "source": [
    "Nuestra variables estaran definidas de manera secuencial en el caso del tiempo, el cual partira con el valor  \n",
    "0.1 hasta 1.0 con paso 0.1. Y los valores de entrada estaran definidos en un arreglo de 10 elementos,  \n",
    "los cuales asignamos manualmente para alcanzar los resultados propuestos segun la ilustracion de la tabla presente \n",
    "en el documento 'guion'."
   ]
  },
  {
   "cell_type": "code",
   "execution_count": 25,
   "metadata": {},
   "outputs": [],
   "source": [
    "t = np.linspace(0.1, 1, 10)\n",
    "a = 2.0"
   ]
  },
  {
   "cell_type": "markdown",
   "metadata": {},
   "source": [
    "Definiremos el modelo a modo de funcion con los parametros que necesitaremos para\n",
    "que esta retorne el resultado de la funcion Weibull."
   ]
  },
  {
   "cell_type": "code",
   "execution_count": 26,
   "metadata": {},
   "outputs": [],
   "source": [
    "def Weibull(t,a):\n",
    "    func = 1-np.exp(-(a*t))\n",
    "    return func"
   ]
  },
  {
   "cell_type": "markdown",
   "metadata": {},
   "source": [
    "Luego para graficar utilizamos plot y en sus parametros llamamos a la funcion del modelo de Weibull que se definio anteriormente."
   ]
  },
  {
   "cell_type": "code",
   "execution_count": 27,
   "metadata": {
    "scrolled": true
   },
   "outputs": [
    {
     "data": {
      "text/plain": [
       "[<matplotlib.lines.Line2D at 0x212cecada00>]"
      ]
     },
     "execution_count": 27,
     "metadata": {},
     "output_type": "execute_result"
    },
    {
     "data": {
      "image/png": "[encoded data removed]",
      "text/plain": [
       "<Figure size 432x288 with 1 Axes>"
      ]
     },
     "metadata": {
      "needs_background": "light"
     },
     "output_type": "display_data"
    }
   ],
   "source": [
    "plt.plot(t,Weibull(t,a))"
   ]
  },
  {
   "cell_type": "markdown",
   "metadata": {},
   "source": [
    "Como resultado, llamamos nuevamente la funcion, para mostrar los valores que obtendremos y \n",
    "utilizaremos en el eje Y de la representacion grafica de nuestro modelo cuadratico"
   ]
  },
  {
   "cell_type": "code",
   "execution_count": 28,
   "metadata": {},
   "outputs": [
    {
     "name": "stdout",
     "output_type": "stream",
     "text": [
      "[0.18126925 0.32967995 0.45118836 0.55067104 0.63212056 0.69880579\n",
      " 0.75340304 0.79810348 0.83470111 0.86466472]\n"
     ]
    }
   ],
   "source": [
    "print(Weibull(t,a))"
   ]
  },
  {
   "cell_type": "markdown",
   "metadata": {},
   "source": [
    "Se define la funcion Rosenbrock para su posterior implementacion con nuestro modelo"
   ]
  },
  {
   "cell_type": "code",
   "execution_count": 29,
   "metadata": {},
   "outputs": [],
   "source": [
    "f = lambda x,y: (x-1)**2 + 100*(y-x**2)**2;"
   ]
  },
  {
   "cell_type": "markdown",
   "metadata": {},
   "source": [
    "Iniciamos nuestra figura definiendo el tamaño y el tipo de proyección"
   ]
  },
  {
   "cell_type": "code",
   "execution_count": null,
   "metadata": {},
   "outputs": [],
   "source": []
  },
  {
   "cell_type": "markdown",
   "metadata": {},
   "source": [
    "Para la representación de la función de Rosenbrock como no lineal,  implementamos nuestros datos conseguidos por nuestro modelo cuadrático en representación de los ejes (X,Y) de la función de Rosenbrock."
   ]
  },
  {
   "cell_type": "code",
   "execution_count": 31,
   "metadata": {},
   "outputs": [],
   "source": [
    "# Evaluar la funcion\n",
    "X = np.arange(0, 1, 0.1)\n",
    "Y = np.array(Weibull(t,a))\n",
    "X, Y = np.meshgrid(X, Y)\n",
    "Z = f(X,Y)"
   ]
  },
  {
   "cell_type": "markdown",
   "metadata": {},
   "source": [
    "Las siguientes lineas de codigo es simplemente para para mostrar el plot de nuestra funcion \n",
    "y ajustar los ejes de la imagen."
   ]
  },
  {
   "cell_type": "code",
   "execution_count": 32,
   "metadata": {},
   "outputs": [],
   "source": [
    "surf = axRos.plot_surface(X, Y, Z, cmap=cm.gist_heat_r,\n",
    "                       linewidth=0, antialiased=False)\n",
    "axRos.set_zlim(0, 100)\n",
    "figRos.colorbar(surf, shrink=0.5, aspect=10)\n",
    "plt.show() "
   ]
  }
 ],
 "metadata": {
  "kernelspec": {
   "display_name": "Python 3",
   "language": "python",
   "name": "python3"
  },
  "language_info": {
   "codemirror_mode": {
    "name": "ipython",
    "version": 3
   },
   "file_extension": ".py",
   "mimetype": "text/x-python",
   "name": "python",
   "nbconvert_exporter": "python",
   "pygments_lexer": "ipython3",
   "version": "3.8.3"
  }
 },
 "nbformat": 4,
 "nbformat_minor": 4
}
