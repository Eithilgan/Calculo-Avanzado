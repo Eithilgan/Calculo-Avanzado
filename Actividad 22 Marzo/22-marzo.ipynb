{
 "cells": [
  {
   "cell_type": "markdown",
   "metadata": {},
   "source": [
    "# Gradientes conjugadas\n",
    "## Calculo Avanzado-MAT1189-1-2021-1\n",
    "## Actividad Inicial\n",
    "### Integrantes: Enrique Cayupan, Bryan Silva, Dennis Riffo.\n",
    "\n",
    "### ¿Cuál es la segunda derivada direccional para la forma cuadrática, para la forma cuadrática?\n",
    "\n",
    "La Formula para la segunda derivada direccional es : $f(x)\\approx f(a)+f'(a)(x-a)+\\frac{1}{2}{f}''(a)(x-a)^{2}$ esta formula se alcanza aproximando la funcion con un polinomio de taylor hasta el termino cuadratico, que tambien se conoce como una aproximacion cuadratica. Suponiendo que $f'(a)=0$, esta aproximacion cuadrática se simplifica de la siguiente forma: $f(a)+\\frac{1}{2}f''(a)(x-a)^{2}$.\n",
    "\n",
    "### ¿Cuál es la segunda derivada direccional para la forma cuadrática, para cualquiera función vectorial?\n",
    "\n",
    "Digamos que tienes una función multivariable f(x,y,z) que toma tres variables de entrada, x, y y z, y quieres calcular su derivada direccional a lo largo del siguiente vector: $\\underset{V}{\\rightarrow} = \\begin{bmatrix}\n",
    "v1\\\\ \n",
    "v2\\\\ \n",
    "v3\n",
    "\\end{bmatrix}$, la formula seria la siguiente: $\\bigtriangledown _{\\underset{v}{\\rightarrow}}f = v1\\frac{\\partial f}{\\partial x} + v2\\frac{\\partial f}{\\partial y} + v3\\frac{\\partial f}{\\partial z}$\n"
   ]
  },
  {
   "cell_type": "code",
   "execution_count": null,
   "metadata": {},
   "outputs": [],
   "source": []
  },
  {
   "cell_type": "code",
   "execution_count": null,
   "metadata": {},
   "outputs": [],
   "source": []
  }
 ],
 "metadata": {
  "kernelspec": {
   "display_name": "Python 3",
   "language": "python",
   "name": "python3"
  },
  "language_info": {
   "codemirror_mode": {
    "name": "ipython",
    "version": 3
   },
   "file_extension": ".py",
   "mimetype": "text/x-python",
   "name": "python",
   "nbconvert_exporter": "python",
   "pygments_lexer": "ipython3",
   "version": "3.8.3"
  }
 },
 "nbformat": 4,
 "nbformat_minor": 4
}
