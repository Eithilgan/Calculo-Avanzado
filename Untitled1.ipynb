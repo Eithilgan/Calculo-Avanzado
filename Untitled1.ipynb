{
 "cells": [
  {
   "cell_type": "markdown",
   "metadata": {},
   "source": [
    "# Gradientes conjugadas\n",
    "## Calculo Avanzado-MAT1189-1-2021-1\n",
    "## Actividad Inicial\n",
    "### Integrantes: Enrique Cayupan, Bryan Silva, Dennis Riffo.\n",
    "\n",
    "En matemática, el método del gradiente conjugado es un algoritmo para resolver numéricamente los sistemas de ecuaciones lineales cuyas matrices son simétricas y definidas positivas. Es un método iterativo, así que se puede aplicar a los sistemas dispersos que son demasiado grandes para ser tratados por métodos directos como la descomposición de Cholesky. Tales sistemas surgen frecuentemente cuando se resuelve numéricamente las ecuaciones en derivadas parciales.\n",
    "\n",
    "El método del gradiente conjugado se puede utilizar también para resolver los problemas de optimización sin restricciones como la minimización de la energía.\n",
    "\n",
    "El método del gradiente biconjugado proporciona una generalización para matrices no simétricas. Varios métodos del gradiente conjugado no lineales busca los mínimos de las ecuaciones no lineales.\n",
    "\n",
    "### Descripcion del método\n",
    "\n",
    "Supongamos que queremos resolver el siguiente sistema de ecuaciones lineales Ax=b donde la n-por-n matriz A es simétrica , definida positiva , y real.\n",
    "\n",
    "Denotamos la única solución de este sistema por x.\n",
    "\n",
    "### Ejemplo en Python\n",
    "\n",
    "Para poder codificar el metodo, necesitaremos de librerías que nos ayudarán a ejemplificar los algoritmos."
   ]
  },
  {
   "cell_type": "code",
   "execution_count": 1,
   "metadata": {},
   "outputs": [],
   "source": [
    "import numpy as np\n",
    "import matplotlib.pyplot as plt\n",
    "from mpl_toolkits.mplot3d import Axes3D\n",
    "import itertools"
   ]
  },
  {
   "cell_type": "markdown",
   "metadata": {},
   "source": [
    "### Definiendo una matriz con Numpy"
   ]
  },
  {
   "cell_type": "code",
   "execution_count": 2,
   "metadata": {},
   "outputs": [],
   "source": [
    "A = np.matrix([[3.0, 2.0], [2.0, 6.0]])\n",
    "b = np.matrix([[2.0], [-8.0]])  # we will use the convention that a vector is a column vector\n",
    "c = 0.0"
   ]
  },
  {
   "cell_type": "markdown",
   "metadata": {},
   "source": [
    "### Forma cuadratica $f(x)=\\frac{1}{2}x^{t}Ax-b^{t}x+c  \\newline{f}'(x)= Ax-b \\newline Ax-b=0$"
   ]
  },
  {
   "cell_type": "markdown",
   "metadata": {},
   "source": [
    "### Definiendo la funcion cuadratica en python"
   ]
  },
  {
   "cell_type": "code",
   "execution_count": 3,
   "metadata": {},
   "outputs": [],
   "source": [
    "def f(x, A, b, c):\n",
    "    return float(0.5 * x.T * A * x - b.T * x + c)"
   ]
  },
  {
   "cell_type": "markdown",
   "metadata": {},
   "source": [
    "## (1) ¿Que se podrá comprender?\n",
    "El Metodo de Gradiante Conjugado nos servira para poder minimizar funciones cuadraticas convexas, en donde buscaremos resolver un sistema de ecuaciones lineales. La idea de este algoritmo es utilizar direcciones conjugadas para el descenso en la busqueda del punto optimo.\n",
    "\n",
    "## (2) ¿Que no se podrá comprender?\n",
    "Dependiendo de como se lleve a cabo el curso y el manejo de los contenidos en relacion a los gradiantes conjugados, quizas no sea posible comprender aspectos que requieran de conocimientos mas avanzados del tema, los cuales, debido a la duracion del curso no se alcancen a avarcar en su totalidad"
   ]
  },
  {
   "cell_type": "code",
   "execution_count": null,
   "metadata": {},
   "outputs": [],
   "source": []
  }
 ],
 "metadata": {
  "kernelspec": {
   "display_name": "Python 3",
   "language": "python",
   "name": "python3"
  },
  "language_info": {
   "codemirror_mode": {
    "name": "ipython",
    "version": 3
   },
   "file_extension": ".py",
   "mimetype": "text/x-python",
   "name": "python",
   "nbconvert_exporter": "python",
   "pygments_lexer": "ipython3",
   "version": "3.8.3"
  }
 },
 "nbformat": 4,
 "nbformat_minor": 4
}
